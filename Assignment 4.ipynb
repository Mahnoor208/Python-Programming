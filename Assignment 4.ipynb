{
 "cells": [
  {
   "cell_type": "code",
   "execution_count": 5,
   "metadata": {},
   "outputs": [
    {
     "name": "stdout",
     "output_type": "stream",
     "text": [
      "Mahnoor\n",
      "Shakil\n",
      "19\n",
      "Karachi\n",
      "Intermediate\n",
      "Mahnoor\n",
      "Shakil\n",
      "19\n",
      "Karachi\n",
      "Under Graduate\n",
      "Mahnoor\n",
      "Shakil\n",
      "19\n",
      "Karachi\n"
     ]
    }
   ],
   "source": [
    "person = {\n",
    "    \"first_name\": \"Mahnoor\",\n",
    "    \"last_name\": \"Shakil\",\n",
    "    \"age\": \"19\",\n",
    "    \"city\": \"Karachi\",\n",
    "    }\n",
    "\n",
    "print(person[\"first_name\"])\n",
    "print(person[\"last_name\"])\n",
    "print(person[\"age\"])\n",
    "print(person[\"city\"])\n",
    "person[\"qualification\"]=\"Intermediate\"\n",
    "print(person[\"qualification\"])\n",
    "\n",
    "'''then update the qualification value to high academic level'''\n",
    "person = {\n",
    "    \"first_name\": \"Mahnoor\",\n",
    "    \"last_name\": \"Shakil\",\n",
    "    \"age\": \"19\",\n",
    "    \"city\": \"Karachi\",\n",
    "    }\n",
    "\n",
    "print(person[\"first_name\"])\n",
    "print(person[\"last_name\"])\n",
    "print(person[\"age\"])\n",
    "print(person[\"city\"])\n",
    "person[\"qualification\"]=\"Under Graduate\"\n",
    "print(person[\"qualification\"])\n",
    "\n",
    "#then delete it.\n",
    "person = {\n",
    "    \"first_name\": \"Mahnoor\",\n",
    "    \"last_name\": \"Shakil\",\n",
    "    \"age\": \"19\",\n",
    "    \"city\": \"Karachi\",\n",
    "    \"qualification\":\"Under Graduate\"\n",
    "    }\n",
    "\n",
    "print(person[\"first_name\"])\n",
    "print(person[\"last_name\"])\n",
    "print(person[\"age\"])\n",
    "print(person[\"city\"])\n",
    "del person[\"qualification\"]"
   ]
  },
  {
   "cell_type": "code",
   "execution_count": 6,
   "metadata": {},
   "outputs": [
    {
     "name": "stdout",
     "output_type": "stream",
     "text": [
      "\n",
      "Santiago is in Chile.\n",
      "  It has a population of about 6158080.\n",
      "  The Andes mountains are nearby\n",
      "\n",
      "Talkeetna is in Alaska.\n",
      "  It has a population of about 876.\n",
      "  The Alaska Range mountains are nearby\n",
      "\n",
      "Kathmandu is in Nepal.\n",
      "  It has a population of about 1003285.\n",
      "  The Himilaya mountains are nearby\n"
     ]
    }
   ],
   "source": [
    "cities = {\n",
    "    'santiago': {\n",
    "        'country': 'chile',\n",
    "        'population': 6158080,\n",
    "        'nearby mountains': 'andes',\n",
    "        },\n",
    "    'talkeetna': {\n",
    "        'country': 'alaska',\n",
    "        'population': 876,\n",
    "        'nearby mountains': 'alaska range',\n",
    "        },\n",
    "    'kathmandu': {\n",
    "        'country': 'nepal',\n",
    "        'population': 1003285,\n",
    "        'nearby mountains': 'himilaya',\n",
    "        }\n",
    "    }\n",
    "\n",
    "for city, city_info in cities.items():\n",
    "    country = city_info['country'].title()\n",
    "    population = city_info['population']\n",
    "    mountains = city_info['nearby mountains'].title()\n",
    "\n",
    "    print(\"\\n\" + city.title() + \" is in \" + country + \".\")\n",
    "    print(\"  It has a population of about \" + str(population) + \".\")\n",
    "    print(\"  The \" + mountains + \" mountains are nearby\")\n"
   ]
  },
  {
   "cell_type": "code",
   "execution_count": 7,
   "metadata": {},
   "outputs": [
    {
     "name": "stdout",
     "output_type": "stream",
     "text": [
      "How old are you?\n",
      "Enter 'quit' when you are finished. 30\n",
      "  Your ticket price is $15.\n",
      "How old are you?\n",
      "Enter 'quit' when you are finished. 5\n",
      "  Your ticket price is $10.\n",
      "How old are you?\n",
      "Enter 'quit' when you are finished. 2\n",
      "  You get it for free!\n",
      "How old are you?\n",
      "Enter 'quit' when you are finished. quit\n"
     ]
    }
   ],
   "source": [
    "prompt = \"How old are you?\"\n",
    "prompt += \"\\nEnter 'quit' when you are finished. \"\n",
    "\n",
    "while True:\n",
    "    age = input(prompt)\n",
    "    if age == 'quit':\n",
    "        break\n",
    "    age = int(age)\n",
    "\n",
    "    if age < 3:\n",
    "        print(\"  You get it for free!\")\n",
    "    elif age < 13:\n",
    "        print(\"  Your ticket price is $10.\")\n",
    "    else:\n",
    "        print(\"  Your ticket price is $15.\")\n"
   ]
  },
  {
   "cell_type": "code",
   "execution_count": 10,
   "metadata": {},
   "outputs": [
    {
     "name": "stdout",
     "output_type": "stream",
     "text": [
      "The Abstract Wild is one of my favorite books.\n"
     ]
    }
   ],
   "source": [
    "def favorite_book(title):\n",
    "   \n",
    "    print(title + \" is one of my favorite books.\")\n",
    "\n",
    "favorite_book('The Abstract Wild')"
   ]
  },
  {
   "cell_type": "code",
   "execution_count": 11,
   "metadata": {},
   "outputs": [
    {
     "name": "stdout",
     "output_type": "stream",
     "text": [
      "Hello what is your name?Mahnoor\n",
      "Hi Mahnoor ,I am thinking of a number between 1 and 30.\n",
      "Enter your guess:28\n",
      "number is too high\n",
      "Enter your guess:20\n",
      "number is too high\n",
      "Enter your guess:23\n",
      "number is too high\n"
     ]
    }
   ],
   "source": [
    "import random\n",
    "name=input(\"Hello what is your name?\")\n",
    "number=random.randint(1,30)\n",
    "print(\"Hi \"+name+\" ,I am thinking of a number between 1 and 30.\")\n",
    "guesstaken=0\n",
    "\n",
    "while guesstaken<3:\n",
    "    guess=int(input(\"Enter your guess:\"))\n",
    "    guesstaken=guesstaken + 1\n",
    "    if guess<number:\n",
    "        print(\"number is too low\")\n",
    "    elif guess>number:\n",
    "        print(\"number is too high\")\n",
    "    else:\n",
    "        print(\"That's right!\")\n",
    "        break\n",
    "        "
   ]
  },
  {
   "cell_type": "code",
   "execution_count": null,
   "metadata": {},
   "outputs": [],
   "source": []
  }
 ],
 "metadata": {
  "kernelspec": {
   "display_name": "Python 3",
   "language": "python",
   "name": "python3"
  },
  "language_info": {
   "codemirror_mode": {
    "name": "ipython",
    "version": 3
   },
   "file_extension": ".py",
   "mimetype": "text/x-python",
   "name": "python",
   "nbconvert_exporter": "python",
   "pygments_lexer": "ipython3",
   "version": "3.7.4"
  }
 },
 "nbformat": 4,
 "nbformat_minor": 2
}
